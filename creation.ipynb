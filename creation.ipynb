{
 "cells": [
  {
   "cell_type": "code",
   "execution_count": 1,
   "metadata": {},
   "outputs": [
    {
     "name": "stdout",
     "output_type": "stream",
     "text": [
      "MoviePy - Writing audio in output_audio.wav\n"
     ]
    },
    {
     "name": "stderr",
     "output_type": "stream",
     "text": [
      "                                                                      "
     ]
    },
    {
     "name": "stdout",
     "output_type": "stream",
     "text": [
      "MoviePy - Done.\n",
      "Audio extraction completed successfully!\n"
     ]
    },
    {
     "name": "stderr",
     "output_type": "stream",
     "text": [
      "\r"
     ]
    }
   ],
   "source": [
    "from moviepy.editor import VideoFileClip\n",
    "\n",
    "# Load the video file\n",
    "video = VideoFileClip(\"/home/kush/CODE/Video/video.mp4\")\n",
    "\n",
    "# Extract the audio\n",
    "audio = video.audio\n",
    "\n",
    "# Save the audio as an mp3 file\n",
    "audio.write_audiofile(\"output_audio.wav\")\n",
    "\n",
    "print(\"Audio extraction completed successfully!\")\n"
   ]
  },
  {
   "cell_type": "code",
   "execution_count": 2,
   "id": "c3ba5f8f",
   "metadata": {},
   "outputs": [
    {
     "name": "stdout",
     "output_type": "stream",
     "text": [
      "ffmpeg version 4.4.2-0ubuntu0.22.04.1 Copyright (c) 2000-2021 the FFmpeg developers\n",
      "  built with gcc 11 (Ubuntu 11.2.0-19ubuntu1)\n",
      "  configuration: --prefix=/usr --extra-version=0ubuntu0.22.04.1 --toolchain=hardened --libdir=/usr/lib/x86_64-linux-gnu --incdir=/usr/include/x86_64-linux-gnu --arch=amd64 --enable-gpl --disable-stripping --enable-gnutls --enable-ladspa --enable-libaom --enable-libass --enable-libbluray --enable-libbs2b --enable-libcaca --enable-libcdio --enable-libcodec2 --enable-libdav1d --enable-libflite --enable-libfontconfig --enable-libfreetype --enable-libfribidi --enable-libgme --enable-libgsm --enable-libjack --enable-libmp3lame --enable-libmysofa --enable-libopenjpeg --enable-libopenmpt --enable-libopus --enable-libpulse --enable-librabbitmq --enable-librubberband --enable-libshine --enable-libsnappy --enable-libsoxr --enable-libspeex --enable-libsrt --enable-libssh --enable-libtheora --enable-libtwolame --enable-libvidstab --enable-libvorbis --enable-libvpx --enable-libwebp --enable-libx265 --enable-libxml2 --enable-libxvid --enable-libzimg --enable-libzmq --enable-libzvbi --enable-lv2 --enable-omx --enable-openal --enable-opencl --enable-opengl --enable-sdl2 --enable-pocketsphinx --enable-librsvg --enable-libmfx --enable-libdc1394 --enable-libdrm --enable-libiec61883 --enable-chromaprint --enable-frei0r --enable-libx264 --enable-shared\n",
      "  libavutil      56. 70.100 / 56. 70.100\n",
      "  libavcodec     58.134.100 / 58.134.100\n",
      "  libavformat    58. 76.100 / 58. 76.100\n",
      "  libavdevice    58. 13.100 / 58. 13.100\n",
      "  libavfilter     7.110.100 /  7.110.100\n",
      "  libswscale      5.  9.100 /  5.  9.100\n",
      "  libswresample   3.  9.100 /  3.  9.100\n",
      "  libpostproc    55.  9.100 / 55.  9.100\n",
      "\u001b[0;33mGuessed Channel Layout for Input Stream #0.0 : stereo\n",
      "\u001b[0mInput #0, wav, from 'output_audio.wav':\n",
      "  Metadata:\n",
      "    encoder         : Lavf58.29.100\n",
      "  Duration: 00:03:23.08, bitrate: 1411 kb/s\n",
      "  Stream #0:0: Audio: pcm_s16le ([1][0][0][0] / 0x0001), 44100 Hz, stereo, s16, 1411 kb/s\n",
      "Stream mapping:\n",
      "  Stream #0:0 -> #0:0 (pcm_s16le (native) -> pcm_s16le (native))\n",
      "Press [q] to stop, [?] for help\n",
      "Output #0, wav, to 'outputAudio.wav':\n",
      "  Metadata:\n",
      "    ISFT            : Lavf58.76.100\n",
      "  Stream #0:0: Audio: pcm_s16le ([1][0][0][0] / 0x0001), 16000 Hz, stereo, s16, 512 kb/s\n",
      "    Metadata:\n",
      "      encoder         : Lavc58.134.100 pcm_s16le\n",
      "size=   12693kB time=00:03:23.07 bitrate= 512.0kbits/s speed=1.25e+03x    \n",
      "video:0kB audio:12692kB subtitle:0kB other streams:0kB global headers:0kB muxing overhead: 0.000600%\n"
     ]
    }
   ],
   "source": [
    "!ffmpeg -y -i output_audio.wav -acodec pcm_s16le -ar 16000 outputAudio.wav"
   ]
  },
  {
   "cell_type": "code",
   "execution_count": 3,
   "id": "1a0596c4",
   "metadata": {},
   "outputs": [
    {
     "ename": "NameError",
     "evalue": "name 'torch' is not defined",
     "output_type": "error",
     "traceback": [
      "\u001b[0;31m---------------------------------------------------------------------------\u001b[0m",
      "\u001b[0;31mNameError\u001b[0m                                 Traceback (most recent call last)",
      "Cell \u001b[0;32mIn[3], line 1\u001b[0m\n\u001b[0;32m----> 1\u001b[0m device \u001b[38;5;241m=\u001b[39m \u001b[38;5;124m\"\u001b[39m\u001b[38;5;124mcuda\u001b[39m\u001b[38;5;124m\"\u001b[39m \u001b[38;5;28;01mif\u001b[39;00m \u001b[43mtorch\u001b[49m\u001b[38;5;241m.\u001b[39mcuda\u001b[38;5;241m.\u001b[39mis_available() \u001b[38;5;28;01melse\u001b[39;00m \u001b[38;5;124m\"\u001b[39m\u001b[38;5;124mcpu\u001b[39m\u001b[38;5;124m\"\u001b[39m\n\u001b[1;32m      2\u001b[0m device\n",
      "\u001b[0;31mNameError\u001b[0m: name 'torch' is not defined"
     ]
    }
   ],
   "source": [
    "device = \"cuda\" if torch.cuda.is_available() else \"cpu\"\n",
    "device"
   ]
  },
  {
   "cell_type": "code",
   "execution_count": 4,
   "metadata": {},
   "outputs": [
    {
     "name": "stderr",
     "output_type": "stream",
     "text": [
      "2024-10-22 21:55:06.755300: I tensorflow/core/util/port.cc:153] oneDNN custom operations are on. You may see slightly different numerical results due to floating-point round-off errors from different computation orders. To turn them off, set the environment variable `TF_ENABLE_ONEDNN_OPTS=0`.\n",
      "2024-10-22 21:55:06.875590: E external/local_xla/xla/stream_executor/cuda/cuda_fft.cc:485] Unable to register cuFFT factory: Attempting to register factory for plugin cuFFT when one has already been registered\n",
      "2024-10-22 21:55:06.917271: E external/local_xla/xla/stream_executor/cuda/cuda_dnn.cc:8454] Unable to register cuDNN factory: Attempting to register factory for plugin cuDNN when one has already been registered\n",
      "2024-10-22 21:55:06.928866: E external/local_xla/xla/stream_executor/cuda/cuda_blas.cc:1452] Unable to register cuBLAS factory: Attempting to register factory for plugin cuBLAS when one has already been registered\n",
      "2024-10-22 21:55:07.004959: I tensorflow/core/platform/cpu_feature_guard.cc:210] This TensorFlow binary is optimized to use available CPU instructions in performance-critical operations.\n",
      "To enable the following instructions: AVX2 AVX_VNNI FMA, in other operations, rebuild TensorFlow with the appropriate compiler flags.\n",
      "2024-10-22 21:55:08.610893: W tensorflow/compiler/tf2tensorrt/utils/py_utils.cc:38] TF-TRT Warning: Could not find TensorRT\n"
     ]
    },
    {
     "name": "stdout",
     "output_type": "stream",
     "text": [
      "10/22/2024 21:55:12 - INFO - huggingsound.speech_recognition.model - Loading model...\n"
     ]
    },
    {
     "name": "stderr",
     "output_type": "stream",
     "text": [
      "Some weights of Wav2Vec2ForCTC were not initialized from the model checkpoint at facebook/wav2vec2-large-960h-lv60-self and are newly initialized: ['wav2vec2.masked_spec_embed']\n",
      "You should probably TRAIN this model on a down-stream task to be able to use it for predictions and inference.\n"
     ]
    },
    {
     "name": "stdout",
     "output_type": "stream",
     "text": [
      "Loaded model on cuda successfully\n"
     ]
    }
   ],
   "source": [
    "from huggingsound import SpeechRecognitionModel\n",
    "import torch\n",
    "\n",
    "# Initialize the device (CPU or GPU)\n",
    "device = \"cuda\" if torch.cuda.is_available() else \"cpu\"\n",
    "\n",
    "# Load the fine-tuned speech recognition model\n",
    "model = SpeechRecognitionModel('facebook/wav2vec2-large-960h-lv60-self',device=device)\n",
    "print(f\"Loaded model on {device} successfully\")\n"
   ]
  },
  {
   "cell_type": "code",
   "execution_count": 5,
   "id": "25b64a80",
   "metadata": {},
   "outputs": [],
   "source": [
    "import librosa\n",
    "input_file = 'outputAudio.wav'"
   ]
  },
  {
   "cell_type": "code",
   "execution_count": 6,
   "id": "ea0adf7e",
   "metadata": {},
   "outputs": [
    {
     "name": "stdout",
     "output_type": "stream",
     "text": [
      "16000\n"
     ]
    }
   ],
   "source": [
    "print(librosa.get_samplerate(input_file))\n",
    "\n",
    "stream = librosa.stream(\n",
    "    input_file,\n",
    "    block_length = 60,\n",
    "    frame_length=16000,\n",
    "    hop_length=16000\n",
    ")"
   ]
  },
  {
   "cell_type": "code",
   "execution_count": 7,
   "id": "1b703d45",
   "metadata": {},
   "outputs": [],
   "source": [
    "import soundfile as sf\n",
    "for i,speech in enumerate(stream):\n",
    "    sf.write(f'{i}.wav',speech,16000)"
   ]
  },
  {
   "cell_type": "code",
   "execution_count": 8,
   "id": "a3ac4218",
   "metadata": {},
   "outputs": [],
   "source": [
    "audio_path = []\n",
    "for a in range(i+1):\n",
    "    audio_path.append(f'{a}.wav')"
   ]
  },
  {
   "cell_type": "code",
   "execution_count": 9,
   "id": "1f300ef5",
   "metadata": {},
   "outputs": [
    {
     "data": {
      "text/plain": [
       "['0.wav', '1.wav', '2.wav', '3.wav']"
      ]
     },
     "execution_count": 9,
     "metadata": {},
     "output_type": "execute_result"
    }
   ],
   "source": [
    "audio_path"
   ]
  },
  {
   "cell_type": "code",
   "execution_count": 10,
   "id": "47dc7048",
   "metadata": {},
   "outputs": [
    {
     "name": "stderr",
     "output_type": "stream",
     "text": [
      "100%|██████████| 4/4 [00:10<00:00,  2.51s/it]\n"
     ]
    }
   ],
   "source": [
    "transcriptions = model.transcribe(audio_path)"
   ]
  },
  {
   "cell_type": "code",
   "execution_count": 11,
   "id": "28e41e44",
   "metadata": {},
   "outputs": [],
   "source": [
    "full_transcribe = ''"
   ]
  },
  {
   "cell_type": "code",
   "execution_count": 12,
   "id": "53e53c9f",
   "metadata": {},
   "outputs": [],
   "source": [
    "\n",
    "for item in transcriptions:\n",
    "    full_transcribe += ''.join(item['transcription'])"
   ]
  },
  {
   "cell_type": "code",
   "execution_count": 13,
   "id": "6d8a23ec",
   "metadata": {},
   "outputs": [
    {
     "data": {
      "text/plain": [
       "\"FOR EVEN AS WE CELEBRATE TO NIGHT WE KNOW THE CHALLENGES THAT TO MORROW WILL BRING ARE THE GREATEST OF OUR LIFETIME I STAND HERE KNOWING THAT MY STORY IS PART OF THE LARGER AMERICAN STORY THAT I OWE A DEBT TO ALL THOSE WHO CAME BEFORE ME AND THAT IN NO OTHER COUNTRY ON EARTH IS MY STORY EVEN POSSIBLE I AM THE SON OF A BLACK MAN FROM KENYA AND A WHITE WOMAN FROM KANSAS I AM MARRIED TO A BLACK AMERICAN WHO CARRIES WITHIN HER THE BLOOD OF SLAVES AND SLAVE OWNERS I HAVE BROTHERS SISTERS NIECES NEPHEWS UNCLES AND COUSINS OF EVERY RACE AND EVERY HUE SCATTERED ACROSS THREE CONTINENTS THESE PEOPLE ARE PART OF ME AND THEY ARE PART OF AMERICA THIS COUNTRY THAT I LOVE I AVE COME HERE TO CAIROSEEK A NEW BEGINNING BETWEEN THE UNITED STATES AND MOSLEMS AROUND THE WORLD ONE BASED ON MUTUAL INTEREST AND MUTUAL RESPECT JUST AS MOSLEMS DO NOT FIT A CRUDE STEREOTYPE AMERICA IS NOT THE CRUDE STEREOTYPE OF A SELF INTERESTED EMPIRE TO SAY THAT FORCE MAY SOMETIMES BE NECESSARY IS NOT A CALL TO CYNICISM IT IS A RECOGNITION OF HISTORY THE IMPERFECTIONS OF MAN AND THE LIMITS OF REASON WE GATHER HERE TO HONOR THE COURAGE OF ORDINARY AMERICANS WILLING TO ENDURE BILLY CLUBS AND THE CHASTENING ROD TEAR GAS AND THE TRAMPLING HOOF MEN AND WOMEN WHO DESPITE THE GUSH OF BLOOD AND SPLINTERED BONE WOULD STAY TRUE TO THEIR NORTH STAR AND KEEP MARCHING TOWARDS JUSTICEBLINDED BY HATRED THE ALLEGED KILLER COULD NOT SEE THE GRACE H SURROUNDING REVEREND PICNIC AN THAT BIBLE STUDY GROUP THE LIGHT OF LOVE THAT SHONE AS THEY OPENED THE CHURCH DOORS AND INVITED A STRANGER TO JOIN IN THER PRAYER CIRC THE ALLEGED KILLER COULD HAVE NEVER ANTICIPATED THE WAY THE FAMILIES OF THE FALLEN WOULD RESPOND WHEN THEY SAW HIM IN COURT IN THE MIDST OF UNSPEAKABLE GRIEF WITH WORDS OF FORGIVENESS HE CALNT IMAGINE THAT AND WHILE THIS NATION HAS BEEN TESTED BY WAR AND HIT'S BEEN TESTED BY RECESSION AND ALL MANNER OF CHALLENGES I STAND BEFORE YOU AGAIN TO NIGHT AFTER ALMOST TWO TERMS AS YOUR PRESIDENT TO TELL YOU I AM MORE OPTIMISTIC ABOUT THE FUTURE OF AMERICATENEVEPA AND B C NEWS FANS THANKS FOR CHECKING OUT OUR U TUBE CHANNEL SUBSCRIBE BY CLICKING ON THAT BUTTON DOWN HERE AND CLICK ON ANY OF THE VIDIOS OVER HERE TO WATCH THE LATEST INTERVIEWS SHOW HIGH LIGHTS AND DIGITAL EXCLUSIVES THANKS FOR WATCHING\""
      ]
     },
     "execution_count": 13,
     "metadata": {},
     "output_type": "execute_result"
    }
   ],
   "source": [
    "full_transcribe"
   ]
  },
  {
   "cell_type": "code",
   "execution_count": 14,
   "id": "0c6a9029",
   "metadata": {},
   "outputs": [],
   "source": [
    "from transformers import pipeline"
   ]
  },
  {
   "cell_type": "code",
   "execution_count": 15,
   "id": "95242680",
   "metadata": {},
   "outputs": [
    {
     "name": "stderr",
     "output_type": "stream",
     "text": [
      "No model was supplied, defaulted to sshleifer/distilbart-cnn-12-6 and revision a4f8f3e (https://huggingface.co/sshleifer/distilbart-cnn-12-6).\n",
      "Using a pipeline without specifying a model name and revision in production is not recommended.\n",
      "Hardware accelerator e.g. GPU is available in the environment, but no `device` argument is passed to the `Pipeline` object. Model will be on CPU.\n"
     ]
    }
   ],
   "source": [
    "summarization = pipeline('summarization')"
   ]
  },
  {
   "cell_type": "code",
   "execution_count": 16,
   "id": "8fc39b80",
   "metadata": {},
   "outputs": [
    {
     "data": {
      "text/plain": [
       "[{'summary_text': ' I stand here knowing that my story is part of the larger American American Story that I OWE A DEBT TO ALL THOSE WHO CAME BEFORE ME AND THAT IN NO OTHER COUNTRY ON EARTH IS MY STORY EVEN POSSIBLE I AM THE SON OF A BLACK MAN FROM KENYA AND A WHITE WOMAN FROM KANSAS I AM MARRIED TO A BLACK AMERICAN WHO CARRIES WITHIN HER THE BLOOD OF SLAVES AND SLAVE OWNERS I have BROTHERS SISTERS Sisters NIECES NEPHEWS UNCLES AND COUSINS of every RACE AND EVERY HUE SCATTERED AC'}]"
      ]
     },
     "execution_count": 16,
     "metadata": {},
     "output_type": "execute_result"
    }
   ],
   "source": [
    "summarization(full_transcribe)"
   ]
  },
  {
   "cell_type": "code",
   "execution_count": 18,
   "id": "cf88b83a",
   "metadata": {},
   "outputs": [
    {
     "name": "stdout",
     "output_type": "stream",
     "text": [
      " I stand here knowing that my story is part of the larger American Story that I OWE A DEBT of ALL THOSE WHO CAME BEFORE of AND THAT of of OTHER COUNTRY of EARTH of of STORY EVEN POSSIBLE I of THE SON of A BLACK MAN FROM KENYA AND A WHITE WOMAN FROM KANSAS I of MARRIED of A BLACK AMERICAN WHO CARRIES WITHIN HER the BLOOD of SLAVES AND SLAVE OWNERS .\n",
      " America is not the CRUDE STEREOTYPE of a SELF INTERESTED EMPIRE to say that FORCE MAY SOMETIMES be NECESSARY is not a call to CYNICISM . SEEK a new BEGINNING BETWELLING BETWEINS AND MOSLEMS AROUND THE world one based on MUTUAL INTEREST AND MUTAL RESPECT .\n"
     ]
    },
    {
     "name": "stderr",
     "output_type": "stream",
     "text": [
      "Your max_length is set to 142, but your input_length is only 76. Since this is a summarization task, where outputs shorter than the input are typically wanted, you might consider decreasing max_length manually, e.g. summarizer('...', max_length=38)\n"
     ]
    },
    {
     "name": "stdout",
     "output_type": "stream",
     "text": [
      " President Drama has been President of the U.S. for nearly two terms . He has said he is more optimistic about the future of America than ever before . The White House has been the subject of numerous scandals, including 9/11 attacks and 9/12 attacks .\n",
      " TENEVEPA AND B C NEWS FANS THANKs FOR CHECKING OUT OUR U TUBE CHANNEL SUBSCRIBE of CLICKING of THAT BUTTON DOWN HERE AND CLICK of ANY of THE VIDIOS OVER HERE of WATCH THE LATEST INTERVIEWS SHOW HIGH LIGHTS AND DIGITAL EXCLUSIVE .\n"
     ]
    }
   ],
   "source": [
    "from textblob import TextBlob\n",
    "for item in transcriptions:\n",
    "    text = summarization(item['transcription'])\n",
    "    sentences = [item['summary_text'] for item in text]\n",
    "    joined_text = ' '.join(sentences)    \n",
    "    b = TextBlob(joined_text)\n",
    "    print(b.correct())"
   ]
  },
  {
   "cell_type": "code",
   "execution_count": 19,
   "id": "d571353e",
   "metadata": {},
   "outputs": [
    {
     "name": "stdout",
     "output_type": "stream",
     "text": [
      " ForOKAA WON'T SANI AND YOUR DAD of WORRIED THAT YOU're GONE THIS LATE of NIGHT of YOU DON'T NEED of WORRY OKAZAKI I Old my PARENTS that I WAS GOING of of WITH of CHAN of NIGHT REALLY HOW DID your DAD REACT of THAT? I JUST WORRY about that when it HAPPENS HEY YOU'of BEING A LITTLE HASTY AREN'T YOUI CANT WAIT ANY MORE I SWEAR  SUCH A LOT of the TIMES of SEEMS TOO D\n",
      " The day after the WEDDING is the day after to MORROW. The BRIDE and GROOM AREN'T HERE of THEY HAVE of of HERE? I WONDER CAN of HAVE an ADVANCE CELEBRATION? I BET YOU'D JUST of HAPPY of SIT HERE ALL NIGHT WITH THAT HAT of YOUR HEAD YOU KNOW that WOL THAT'S NOT the ONLY THING that MAKES of HAPPy allTOGETHER. of CAN'T BELIEVE THAT YOU're in SUCH HIGH SPIRITS ALREADY THE WEDdING\n",
      " I REMEMBER MISSY BOKEY . It was BECAUSE of YOUR REQUEST THAT THIS WEDDING WILL of HELD of THE SCHOOL THAT'S RIGHT That'S WHAT of ISNO I FORGOT of TIN TIS of PORTANT TURCA I CAN'T REMEMBER WHY DID YOU AND I WANT of CELEBRATE CUCKO'S MARRIAGE? I CAN't remember why did YOU and I WANT to CELE BRIDE'S SISTER WASN'T HER SISTER? I just SETAN THERE WAS SOMEBODY ELSE there was ANOTHER PERSON\n"
     ]
    },
    {
     "name": "stderr",
     "output_type": "stream",
     "text": [
      "Your max_length is set to 130, but your input_length is only 42. Since this is a summarization task, where outputs shorter than the input are typically wanted, you might consider decreasing max_length manually, e.g. summarizer('...', max_length=21)\n"
     ]
    },
    {
     "name": "stdout",
     "output_type": "stream",
     "text": [
      " Miss CUCKO and her sister were always together and loved each other . The was the sister of Tissue BOKEY who was married to MISSIE BOKEY . Of we continue to be HAPPY she can be happy for her sister, she can also be happy .\n",
      " A LITTLE BIT but I really don't want to CRY even so if you have to by YOU'll CRY YOU'of CRY of TELL of ARE YOU A BOY TOO YES . A LDRIGHT: \"I really want to cry a little bit. A little bit but I REALLY DON'T WANT of CRY EVEN of of YOU HAVE of CRRY you'll cry\"\n"
     ]
    }
   ],
   "source": [
    "from textblob import TextBlob\n",
    "\n",
    "chunk_size = 6\n",
    "\n",
    "for i in range(0, len(transcriptions), chunk_size):\n",
    "\n",
    "    chunk = transcriptions[i:i + chunk_size]\n",
    "\n",
    "    full_transcribe = ''.join([item['transcription'] for item in chunk])\n",
    "\n",
    "    text = summarization(full_transcribe,max_length=100,min_length = 2,do_sample=False)\n",
    "    sentences = [item['summary_text'] for item in text]\n",
    "\n",
    "    joined_text = ' '.join(sentences)    \n",
    "    b = TextBlob(joined_text)\n",
    "    \n",
    "    print(b.correct(),\"/n/n\")\n"
   ]
  },
  {
   "cell_type": "code",
   "execution_count": null,
   "id": "a8f7f0a9",
   "metadata": {},
   "outputs": [],
   "source": []
  }
 ],
 "metadata": {
  "kernelspec": {
   "display_name": "slit-env",
   "language": "python",
   "name": "python3"
  },
  "language_info": {
   "codemirror_mode": {
    "name": "ipython",
    "version": 3
   },
   "file_extension": ".py",
   "mimetype": "text/x-python",
   "name": "python",
   "nbconvert_exporter": "python",
   "pygments_lexer": "ipython3",
   "version": "3.10.12"
  }
 },
 "nbformat": 4,
 "nbformat_minor": 5
}
